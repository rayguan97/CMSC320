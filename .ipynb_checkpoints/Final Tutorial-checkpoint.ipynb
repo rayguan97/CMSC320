{
 "cells": [
  {
   "cell_type": "markdown",
   "metadata": {},
   "source": [
    "\n",
    "\n",
    "<img src=\"Movie1.jpg\">\n",
    "<h1 style=\"line-height:15px;\"><center> Movie Industy and The Revenue of a Movie </center></h1>\n",
    "<h3 style=\"line-height:5px;\"> Author:  Tianrui Guan, Xuejing Wang, Kaiyin Li </h3>\n",
    "<h6 style=\"line-height:1px;\"> Published: Dec 8, 2018 </h6>"
   ]
  },
  {
   "cell_type": "markdown",
   "metadata": {},
   "source": [
    "<h2>Table of Contents</h2>\n",
    "\n",
    "<ol style=\"font-size:115%;line-height:18px;\">\n",
    "    <li>\n",
    "        <strong>Introduction</strong>\n",
    "        <ul>\n",
    "            <li>Background and Motivation</li>\n",
    "            <li>About data</li>\n",
    "            <li>Relevant information</li><br>\n",
    "        </ul>\n",
    "    </li>\n",
    "    <li>\n",
    "        <strong>Data Scraping</strong>\n",
    "        <ul>\n",
    "             <li>Step 1</li>\n",
    "             <li>Step 2</li>\n",
    "             <li> ... </li><br>\n",
    "         </ul>        \n",
    "    </li>\n",
    "    <li>\n",
    "        <strong>Data Wrangling</strong>\n",
    "        <ul>\n",
    "            <li>Data Cleaning</li>\n",
    "            <li>Missing data and Imputation</li>\n",
    "            <li>Data Tiding</li><br>\n",
    "        </ul>\n",
    "    </li>\n",
    "    <li>\n",
    "        <strong>Data Visualization</strong>\n",
    "        <ul>\n",
    "            <li>Distrubution 1</li>\n",
    "            <li>Distrubution 2</li>\n",
    "            <li>Distrubution 3</li>\n",
    "            <li> ... </li><br>\n",
    "        </ul>\n",
    "    </li>\n",
    "    <li>\n",
    "        <strong>Cluster Analysis(T test)</strong>\n",
    "        <ul>\n",
    "            <li>Cluster 1</li>\n",
    "            <li>Cluster 2</li>\n",
    "            <li>Cluster 3</li>\n",
    "            <li> ... </li><br>\n",
    "        </ul>\n",
    "    </li>\n",
    "    <li>\n",
    "        <strong>Prediction</strong>\n",
    "        <ul>\n",
    "            <li>Prediction of revenue of a movie</li>\n",
    "            <li>Prediction of the revenue of a movie company</li>\n",
    "            <li>Cluster 3</li>\n",
    "            <li> ... </li><br>\n",
    "        </ul>\n",
    "    </li>\n",
    "    <li>\n",
    "        <strong>Conclusions</strong>\n",
    "        <ul>\n",
    "            <li> Summary </li>\n",
    "            <li> Other Problems </li><br>\n",
    "        </ul>\n",
    "    </li>\n",
    "    <li>\n",
    "        <strong>appendix</strong>\n",
    "        <ul>\n",
    "            <li>Relevent resources</li>\n",
    "            <li> ... </li><br>\n",
    "        </ul>\n",
    "    </li>\n",
    "</ol>\n"
   ]
  },
  {
   "cell_type": "markdown",
   "metadata": {},
   "source": [
    "## 1. Introduction\n",
    "### Background and Motivations\n",
    "\n",
    "From the exploration of data in previous projects, we realize how much we can learn from data and make conclusions from analized data. So we want to discuss something what is relavent to everyone, regardless of their interests. Entertainment is relavent to everyone's life, so we decided to explore data about it. At the same time, considering the accuracy of the data from the internet, it is hard to obtain accurate and relatively unbiased data from any websites about entertainment. After browsing many websites and sources, we targeted at Internet Movie Database ([IMDb](https://www.imdb.com/)). IMDb is an online database of information related to films, television programs, home videos and video games. According to wikipedia, IMDb has approximately 5.3 million titles (including episodes) as well as 83 million registered users before Octoer 2018. Because of the authority and completeness of IMDb, we decided to scrap data on the website, analyze the layout of the moive industry globally and try to make some prediction about an incoming movie.\n",
    "\n",
    "### About data\n",
    "The data was scrapped from [IMDb](https://www.imdb.com/). In the raw data, there are xxxx data points, including all of the movies from 1986 to 2018. It has 14 colums: name of the movie, content rating, genre, length, year, released date, score, number of comments, production companies, countries, language, budget and gross. Due to the fact that the data is huge, we scrapped it in the script and stored it in the csv file. But we also put our scrapping code in the notebook. \n",
    "\n",
    "### Relevant information\n",
    "\n",
    "The idea was inspired by a [dataset](https://www.kaggle.com/danielgrijalvas/movies) from kaggle about Movie Industry. Because the data was out of date (with movies only before 2016) and some of the information was not captured (for some features like company and genre, only one of them was scrapped), so we decided to write the scrapping code and create our own dataset. We deleted and added a few columns that are relevant to our discussion, made sure that we included all informations we want, and added data from 2017 to 2018.\n"
   ]
  },
  {
   "cell_type": "markdown",
   "metadata": {},
   "source": [
    "## 2. Data Scraping\n",
    "\n"
   ]
  },
  {
   "cell_type": "code",
   "execution_count": null,
   "metadata": {},
   "outputs": [],
   "source": []
  },
  {
   "cell_type": "code",
   "execution_count": null,
   "metadata": {},
   "outputs": [],
   "source": []
  },
  {
   "cell_type": "markdown",
   "metadata": {},
   "source": []
  },
  {
   "cell_type": "markdown",
   "metadata": {},
   "source": [
    "\n"
   ]
  },
  {
   "cell_type": "code",
   "execution_count": 46,
   "metadata": {},
   "outputs": [],
   "source": [
    "# import necessary tools\n",
    "\n",
    "# pandas for dataframe\n",
    "import pandas as pd\n",
    "# linear algebra\n",
    "import numpy as np\n",
    "\n",
    "# for data analysis\n",
    "from sklearn import preprocessing\n",
    "from sklearn import datasets\n",
    "from scipy import stats\n",
    "\n",
    "# for data visualisation\n",
    "import matplotlib.pyplot as plt\n",
    "import seaborn as sns\n",
    "\n"
   ]
  },
  {
   "cell_type": "code",
   "execution_count": null,
   "metadata": {},
   "outputs": [],
   "source": []
  },
  {
   "cell_type": "code",
   "execution_count": 52,
   "metadata": {},
   "outputs": [
    {
     "data": {
      "text/html": [
       "<div>\n",
       "<style scoped>\n",
       "    .dataframe tbody tr th:only-of-type {\n",
       "        vertical-align: middle;\n",
       "    }\n",
       "\n",
       "    .dataframe tbody tr th {\n",
       "        vertical-align: top;\n",
       "    }\n",
       "\n",
       "    .dataframe thead th {\n",
       "        text-align: right;\n",
       "    }\n",
       "</style>\n",
       "<table border=\"1\" class=\"dataframe\">\n",
       "  <thead>\n",
       "    <tr style=\"text-align: right;\">\n",
       "      <th></th>\n",
       "      <th>budget</th>\n",
       "      <th>companies</th>\n",
       "      <th>country</th>\n",
       "      <th>genre</th>\n",
       "      <th>gross</th>\n",
       "      <th>language</th>\n",
       "      <th>name</th>\n",
       "      <th>rating</th>\n",
       "      <th>released</th>\n",
       "      <th>runtime</th>\n",
       "      <th>score</th>\n",
       "      <th>votes</th>\n",
       "      <th>year</th>\n",
       "    </tr>\n",
       "  </thead>\n",
       "  <tbody>\n",
       "  </tbody>\n",
       "</table>\n",
       "</div>"
      ],
      "text/plain": [
       "Empty DataFrame\n",
       "Columns: [budget, companies, country, genre, gross, language, name, rating, released, runtime, score, votes, year]\n",
       "Index: []"
      ]
     },
     "execution_count": 52,
     "metadata": {},
     "output_type": "execute_result"
    }
   ],
   "source": [
    "data = pd.read_csv('./movies_new.csv')\n",
    "\n",
    "data = data[data.released != 'released']\n",
    "# data['released_date'] = pd.to_datetime(str(data.released))\n",
    "\n",
    "# temp = [d for d in data.released if '-' not in d]\n",
    "# temp\n",
    "\n",
    "data.set_index('name')\n",
    "data[data.duplicated()]\n",
    "\n"
   ]
  },
  {
   "cell_type": "code",
   "execution_count": null,
   "metadata": {},
   "outputs": [],
   "source": []
  },
  {
   "cell_type": "code",
   "execution_count": null,
   "metadata": {},
   "outputs": [],
   "source": []
  },
  {
   "cell_type": "code",
   "execution_count": null,
   "metadata": {},
   "outputs": [],
   "source": []
  }
 ],
 "metadata": {
  "kernelspec": {
   "display_name": "Python 3",
   "language": "python",
   "name": "python3"
  },
  "language_info": {
   "codemirror_mode": {
    "name": "ipython",
    "version": 3
   },
   "file_extension": ".py",
   "mimetype": "text/x-python",
   "name": "python",
   "nbconvert_exporter": "python",
   "pygments_lexer": "ipython3",
   "version": "3.6.3"
  }
 },
 "nbformat": 4,
 "nbformat_minor": 2
}
