{
 "cells": [
  {
   "cell_type": "markdown",
   "metadata": {},
   "source": [
    "# Final Tutorial \n",
    "## Author:  Tianrui Guan Xuejing Wang Kaiyin Li\n",
    "<img src=\"Avatar.jpg\">"
   ]
  },
  {
   "cell_type": "code",
   "execution_count": null,
   "metadata": {},
   "outputs": [],
   "source": [
    "# import pandas for \n",
    "# pandas for dataframe\n",
    "import pandas as pd\n",
    "# linear algebra\n",
    "import numbpy as np\n",
    "\n",
    "# for data analysis\n",
    "from sklearn import preprocessing\n",
    "from sklearn import datasets\n",
    "from scipy import stats\n",
    "\n",
    "# for data visualisation\n",
    "import matplotlib.pyplot as plt\n",
    "import seaborn as sns\n",
    "import ptitprince as pt\n",
    "\n",
    "\n",
    "\n",
    "# from plotly.offline import init_notebook_mode, iplot\n",
    "# from IPython.display import display, HTML\n",
    "# init_notebook_mode(connected=True)\n",
    "\n",
    "# for missing value exploration\n",
    "# import missingno as msno\n",
    "\n",
    "# import os\n",
    "# print(os.listdir(\"../input\"))\n",
    "\n",
    "# import warnings\n",
    "# warnings.filterwarnings('ignore')"
   ]
  },
  {
   "cell_type": "code",
   "execution_count": null,
   "metadata": {},
   "outputs": [],
   "source": []
  },
  {
   "cell_type": "code",
   "execution_count": null,
   "metadata": {},
   "outputs": [],
   "source": [
    "data = pd.read_csv('./ICO_CROP_DATA.csv')\n",
    "data.head()"
   ]
  },
  {
   "cell_type": "code",
   "execution_count": null,
   "metadata": {},
   "outputs": [],
   "source": []
  },
  {
   "cell_type": "code",
   "execution_count": null,
   "metadata": {},
   "outputs": [],
   "source": []
  },
  {
   "cell_type": "code",
   "execution_count": null,
   "metadata": {},
   "outputs": [],
   "source": []
  }
 ],
 "metadata": {
  "kernelspec": {
   "display_name": "Python 3",
   "language": "python",
   "name": "python3"
  },
  "language_info": {
   "codemirror_mode": {
    "name": "ipython",
    "version": 3
   },
   "file_extension": ".py",
   "mimetype": "text/x-python",
   "name": "python",
   "nbconvert_exporter": "python",
   "pygments_lexer": "ipython3",
   "version": "3.6.3"
  }
 },
 "nbformat": 4,
 "nbformat_minor": 2
}
